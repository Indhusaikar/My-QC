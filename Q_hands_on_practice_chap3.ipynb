{
  "cells": [
    {
      "cell_type": "markdown",
      "metadata": {
        "id": "view-in-github",
        "colab_type": "text"
      },
      "source": [
        "<a href=\"https://colab.research.google.com/github/Indhusaikar/My-QC/blob/main/Q_hands_on_practice_chap3.ipynb\" target=\"_parent\"><img src=\"https://colab.research.google.com/assets/colab-badge.svg\" alt=\"Open In Colab\"/></a>"
      ]
    },
    {
      "cell_type": "code",
      "source": [
        "!pip install qiskit"
      ],
      "metadata": {
        "colab": {
          "base_uri": "https://localhost:8080/"
        },
        "id": "kxhmg-_Fa44H",
        "outputId": "52093f3c-9466-422f-ef03-2ab7cef2e3ba"
      },
      "execution_count": null,
      "outputs": [
        {
          "output_type": "stream",
          "name": "stdout",
          "text": [
            "Collecting qiskit\n",
            "  Downloading qiskit-2.1.1-cp39-abi3-manylinux_2_17_x86_64.manylinux2014_x86_64.whl.metadata (12 kB)\n",
            "Collecting rustworkx>=0.15.0 (from qiskit)\n",
            "  Downloading rustworkx-0.16.0-cp39-abi3-manylinux_2_17_x86_64.manylinux2014_x86_64.whl.metadata (10 kB)\n",
            "Requirement already satisfied: numpy<3,>=1.17 in /usr/local/lib/python3.11/dist-packages (from qiskit) (2.0.2)\n",
            "Requirement already satisfied: scipy>=1.5 in /usr/local/lib/python3.11/dist-packages (from qiskit) (1.16.0)\n",
            "Requirement already satisfied: dill>=0.3 in /usr/local/lib/python3.11/dist-packages (from qiskit) (0.3.7)\n",
            "Collecting stevedore>=3.0.0 (from qiskit)\n",
            "  Downloading stevedore-5.4.1-py3-none-any.whl.metadata (2.3 kB)\n",
            "Requirement already satisfied: typing-extensions in /usr/local/lib/python3.11/dist-packages (from qiskit) (4.14.1)\n",
            "Collecting pbr>=2.0.0 (from stevedore>=3.0.0->qiskit)\n",
            "  Downloading pbr-6.1.1-py2.py3-none-any.whl.metadata (3.4 kB)\n",
            "Requirement already satisfied: setuptools in /usr/local/lib/python3.11/dist-packages (from pbr>=2.0.0->stevedore>=3.0.0->qiskit) (75.2.0)\n",
            "Downloading qiskit-2.1.1-cp39-abi3-manylinux_2_17_x86_64.manylinux2014_x86_64.whl (7.5 MB)\n",
            "\u001b[2K   \u001b[90m━━━━━━━━━━━━━━━━━━━━━━━━━━━━━━━━━━━━━━━━\u001b[0m \u001b[32m7.5/7.5 MB\u001b[0m \u001b[31m16.8 MB/s\u001b[0m eta \u001b[36m0:00:00\u001b[0m\n",
            "\u001b[?25hDownloading rustworkx-0.16.0-cp39-abi3-manylinux_2_17_x86_64.manylinux2014_x86_64.whl (2.1 MB)\n",
            "\u001b[2K   \u001b[90m━━━━━━━━━━━━━━━━━━━━━━━━━━━━━━━━━━━━━━━━\u001b[0m \u001b[32m2.1/2.1 MB\u001b[0m \u001b[31m76.6 MB/s\u001b[0m eta \u001b[36m0:00:00\u001b[0m\n",
            "\u001b[?25hDownloading stevedore-5.4.1-py3-none-any.whl (49 kB)\n",
            "\u001b[2K   \u001b[90m━━━━━━━━━━━━━━━━━━━━━━━━━━━━━━━━━━━━━━━━\u001b[0m \u001b[32m49.5/49.5 kB\u001b[0m \u001b[31m6.0 MB/s\u001b[0m eta \u001b[36m0:00:00\u001b[0m\n",
            "\u001b[?25hDownloading pbr-6.1.1-py2.py3-none-any.whl (108 kB)\n",
            "\u001b[2K   \u001b[90m━━━━━━━━━━━━━━━━━━━━━━━━━━━━━━━━━━━━━━━━\u001b[0m \u001b[32m109.0/109.0 kB\u001b[0m \u001b[31m13.2 MB/s\u001b[0m eta \u001b[36m0:00:00\u001b[0m\n",
            "\u001b[?25hInstalling collected packages: rustworkx, pbr, stevedore, qiskit\n",
            "Successfully installed pbr-6.1.1 qiskit-2.1.1 rustworkx-0.16.0 stevedore-5.4.1\n"
          ]
        }
      ]
    },
    {
      "cell_type": "code",
      "execution_count": 20,
      "metadata": {
        "colab": {
          "base_uri": "https://localhost:8080/",
          "height": 176
        },
        "id": "NSAMSmRQFECm",
        "outputId": "82df3ba4-f6e5-49b2-a431-b5832e411db4"
      },
      "outputs": [
        {
          "output_type": "error",
          "ename": "AttributeError",
          "evalue": "module 'qiskit' has no attribute '__qiskit_version__'",
          "traceback": [
            "\u001b[0;31m---------------------------------------------------------------------------\u001b[0m",
            "\u001b[0;31mAttributeError\u001b[0m                            Traceback (most recent call last)",
            "\u001b[0;32m/tmp/ipython-input-20-820117636.py\u001b[0m in \u001b[0;36m<cell line: 0>\u001b[0;34m()\u001b[0m\n\u001b[1;32m      1\u001b[0m \u001b[0;31m# Listing 3.1 Verify Qiskit version\u001b[0m\u001b[0;34m\u001b[0m\u001b[0;34m\u001b[0m\u001b[0m\n\u001b[1;32m      2\u001b[0m \u001b[0;32mimport\u001b[0m \u001b[0mqiskit\u001b[0m\u001b[0;34m\u001b[0m\u001b[0;34m\u001b[0m\u001b[0m\n\u001b[0;32m----> 3\u001b[0;31m \u001b[0mqiskit\u001b[0m\u001b[0;34m.\u001b[0m\u001b[0m__qiskit_version__\u001b[0m\u001b[0;34m\u001b[0m\u001b[0;34m\u001b[0m\u001b[0m\n\u001b[0m",
            "\u001b[0;31mAttributeError\u001b[0m: module 'qiskit' has no attribute '__qiskit_version__'"
          ]
        }
      ],
      "source": [
        "# Listing 3.1 Verify Qiskit version\n",
        "import qiskit\n",
        "qiskit.__qiskit_version__"
      ]
    },
    {
      "cell_type": "code",
      "execution_count": 10,
      "metadata": {
        "colab": {
          "base_uri": "https://localhost:8080/"
        },
        "id": "CHIFgFi_FL6g",
        "outputId": "20786cbb-fb2b-44cb-b71d-8481f817634c"
      },
      "outputs": [
        {
          "output_type": "execute_result",
          "data": {
            "text/plain": [
              "<qiskit.circuit.instructionset.InstructionSet at 0x7a2e5c68db10>"
            ]
          },
          "metadata": {},
          "execution_count": 10
        }
      ],
      "source": [
        "# Listing 3.2: The first qubit\n",
        "from qiskit import QuantumCircuit\n",
        "\n",
        "# Create a quantum circuit with one qubit\n",
        "qc = QuantumCircuit(1)\n",
        "\n",
        "# Define initial_state as |1>\n",
        "initial_state = [0,1]\n",
        "\n",
        "# Apply initialization operation to the qubit at position 0\n",
        "qc.initialize(initial_state, 0)"
      ]
    },
    {
      "cell_type": "code",
      "source": [
        "!pip install matplotlib"
      ],
      "metadata": {
        "colab": {
          "base_uri": "https://localhost:8080/"
        },
        "id": "11G0DAqQbhbe",
        "outputId": "2d961a19-cad4-4ac0-daca-8e7ce3424abe"
      },
      "execution_count": 13,
      "outputs": [
        {
          "output_type": "stream",
          "name": "stdout",
          "text": [
            "Requirement already satisfied: matplotlib in /usr/local/lib/python3.11/dist-packages (3.10.0)\n",
            "Requirement already satisfied: contourpy>=1.0.1 in /usr/local/lib/python3.11/dist-packages (from matplotlib) (1.3.2)\n",
            "Requirement already satisfied: cycler>=0.10 in /usr/local/lib/python3.11/dist-packages (from matplotlib) (0.12.1)\n",
            "Requirement already satisfied: fonttools>=4.22.0 in /usr/local/lib/python3.11/dist-packages (from matplotlib) (4.59.0)\n",
            "Requirement already satisfied: kiwisolver>=1.3.1 in /usr/local/lib/python3.11/dist-packages (from matplotlib) (1.4.8)\n",
            "Requirement already satisfied: numpy>=1.23 in /usr/local/lib/python3.11/dist-packages (from matplotlib) (2.0.2)\n",
            "Requirement already satisfied: packaging>=20.0 in /usr/local/lib/python3.11/dist-packages (from matplotlib) (25.0)\n",
            "Requirement already satisfied: pillow>=8 in /usr/local/lib/python3.11/dist-packages (from matplotlib) (11.3.0)\n",
            "Requirement already satisfied: pyparsing>=2.3.1 in /usr/local/lib/python3.11/dist-packages (from matplotlib) (3.2.3)\n",
            "Requirement already satisfied: python-dateutil>=2.7 in /usr/local/lib/python3.11/dist-packages (from matplotlib) (2.9.0.post0)\n",
            "Requirement already satisfied: six>=1.5 in /usr/local/lib/python3.11/dist-packages (from python-dateutil>=2.7->matplotlib) (1.17.0)\n"
          ]
        }
      ]
    },
    {
      "cell_type": "code",
      "source": [
        "!pip install qiskit-aer"
      ],
      "metadata": {
        "colab": {
          "base_uri": "https://localhost:8080/"
        },
        "id": "JL7BARXdbqzN",
        "outputId": "be12a7d0-b946-44b3-8fea-b7747ac0b836"
      },
      "execution_count": 14,
      "outputs": [
        {
          "output_type": "stream",
          "name": "stdout",
          "text": [
            "Collecting qiskit-aer\n",
            "  Downloading qiskit_aer-0.17.1-cp311-cp311-manylinux_2_17_x86_64.manylinux2014_x86_64.whl.metadata (8.3 kB)\n",
            "Requirement already satisfied: qiskit>=1.1.0 in /usr/local/lib/python3.11/dist-packages (from qiskit-aer) (2.1.1)\n",
            "Requirement already satisfied: numpy>=1.16.3 in /usr/local/lib/python3.11/dist-packages (from qiskit-aer) (2.0.2)\n",
            "Requirement already satisfied: scipy>=1.0 in /usr/local/lib/python3.11/dist-packages (from qiskit-aer) (1.16.0)\n",
            "Requirement already satisfied: psutil>=5 in /usr/local/lib/python3.11/dist-packages (from qiskit-aer) (5.9.5)\n",
            "Requirement already satisfied: python-dateutil>=2.8.0 in /usr/local/lib/python3.11/dist-packages (from qiskit-aer) (2.9.0.post0)\n",
            "Requirement already satisfied: six>=1.5 in /usr/local/lib/python3.11/dist-packages (from python-dateutil>=2.8.0->qiskit-aer) (1.17.0)\n",
            "Requirement already satisfied: rustworkx>=0.15.0 in /usr/local/lib/python3.11/dist-packages (from qiskit>=1.1.0->qiskit-aer) (0.16.0)\n",
            "Requirement already satisfied: dill>=0.3 in /usr/local/lib/python3.11/dist-packages (from qiskit>=1.1.0->qiskit-aer) (0.3.7)\n",
            "Requirement already satisfied: stevedore>=3.0.0 in /usr/local/lib/python3.11/dist-packages (from qiskit>=1.1.0->qiskit-aer) (5.4.1)\n",
            "Requirement already satisfied: typing-extensions in /usr/local/lib/python3.11/dist-packages (from qiskit>=1.1.0->qiskit-aer) (4.14.1)\n",
            "Requirement already satisfied: pbr>=2.0.0 in /usr/local/lib/python3.11/dist-packages (from stevedore>=3.0.0->qiskit>=1.1.0->qiskit-aer) (6.1.1)\n",
            "Requirement already satisfied: setuptools in /usr/local/lib/python3.11/dist-packages (from pbr>=2.0.0->stevedore>=3.0.0->qiskit>=1.1.0->qiskit-aer) (75.2.0)\n",
            "Downloading qiskit_aer-0.17.1-cp311-cp311-manylinux_2_17_x86_64.manylinux2014_x86_64.whl (12.4 MB)\n",
            "\u001b[2K   \u001b[90m━━━━━━━━━━━━━━━━━━━━━━━━━━━━━━━━━━━━━━━━\u001b[0m \u001b[32m12.4/12.4 MB\u001b[0m \u001b[31m35.4 MB/s\u001b[0m eta \u001b[36m0:00:00\u001b[0m\n",
            "\u001b[?25hInstalling collected packages: qiskit-aer\n",
            "Successfully installed qiskit-aer-0.17.1\n"
          ]
        }
      ]
    },
    {
      "cell_type": "code",
      "execution_count": 21,
      "metadata": {
        "id": "YSVLsJulFLw4"
      },
      "outputs": [],
      "source": [
        "# Listing 3.3: Prepare the simulation backend\n",
        "from qiskit_aer import Aer\n",
        "\n",
        "# Tell Qiskit how to simulate our circuit\n",
        "backend = Aer.get_backend('statevector_simulator')\n",
        "\n",
        "# Do the simulation, returning the result\n",
        "result = backend.run(qc).result()"
      ]
    },
    {
      "cell_type": "code",
      "execution_count": 19,
      "metadata": {
        "id": "1MYxs-a_FL2L",
        "colab": {
          "base_uri": "https://localhost:8080/",
          "height": 487
        },
        "outputId": "358afc90-8399-4c07-d012-b2cc58887fd3"
      },
      "outputs": [
        {
          "output_type": "execute_result",
          "data": {
            "text/plain": [
              "<Figure size 640x480 with 1 Axes>"
            ],
            "image/png": "[encoded data removed]"
          },
          "metadata": {},
          "execution_count": 19
        }
      ],
      "source": [
        "# Listing 3.4: The measured qubit\n",
        "from qiskit.visualization import plot_histogram\n",
        "import matplotlib.pyplot as plt\n",
        "\n",
        "# get the probability distribution\n",
        "counts = result.get_counts()\n",
        "\n",
        "# Show the histogram\n",
        "plot_histogram(counts)"
      ]
    },
    {
      "cell_type": "code",
      "execution_count": 38,
      "metadata": {
        "id": "0JenuaoYFLzL",
        "colab": {
          "base_uri": "https://localhost:8080/",
          "height": 487
        },
        "outputId": "31a0437f-2001-44c0-a3ac-f99f39ebb6c5"
      },
      "outputs": [
        {
          "output_type": "execute_result",
          "data": {
            "text/plain": [
              "<Figure size 640x480 with 1 Axes>"
            ],
            "image/png": "[encoded data removed]"
          },
          "metadata": {},
          "execution_count": 38
        }
      ],
      "source": [
        "# Listing 3.5: First attempt to superpose two states\n",
        "from math import sqrt\n",
        "from qiskit_aer import Aer\n",
        "from qiskit import QuantumCircuit\n",
        "from qiskit.visualization import plot_histogram\n",
        "\n",
        "# Define state |psi> - Normalized state\n",
        "initial_state = [1/sqrt(2), 1/sqrt(2)]\n",
        "\n",
        "# Redefine the quantum circuit\n",
        "qc = QuantumCircuit(1)\n",
        "\n",
        "# Initialise the 0th qubit in the state `initial_state`\n",
        "qc.initialize(initial_state, 0)\n",
        "\n",
        "# Get the statevector simulator backend\n",
        "backend = Aer.get_backend('statevector_simulator')\n",
        "\n",
        "# execute the qc\n",
        "results = backend.run(qc).result().get_counts()\n",
        "\n",
        "# plot the results\n",
        "plot_histogram(results)"
      ]
    },
    {
      "cell_type": "code",
      "execution_count": 33,
      "metadata": {
        "colab": {
          "base_uri": "https://localhost:8080/",
          "height": 487
        },
        "id": "bmtc6QubFLuk",
        "outputId": "5cf91002-3fba-4bb2-fafe-0069c7583e25"
      },
      "outputs": [
        {
          "output_type": "execute_result",
          "data": {
            "text/plain": [
              "<Figure size 640x480 with 1 Axes>"
            ],
            "image/png": "[encoded data removed]"
          },
          "metadata": {},
          "execution_count": 33
        }
      ],
      "source": [
        "# Listing 3.6: Weighted initial state\n",
        "from math import sqrt\n",
        "\n",
        "# Define state |psi>\n",
        "initial_state = [1/sqrt(2), 1/sqrt(2)]\n",
        "\n",
        "# Redefine the quantum circuit\n",
        "qc = QuantumCircuit(1)\n",
        "\n",
        "# Initialise the 0th qubit in the state `initial_state`\n",
        "qc.initialize(initial_state, 0)\n",
        "\n",
        "# execute the qc\n",
        "results = execute(qc,backend).result().get_counts()\n",
        "\n",
        "# plot the results\n",
        "plot_histogram(results)\n"
      ]
    },
    {
      "cell_type": "code",
      "execution_count": 43,
      "metadata": {
        "colab": {
          "base_uri": "https://localhost:8080/",
          "height": 487
        },
        "id": "E5h-KjpGFLrj",
        "outputId": "276f57a5-7d43-4a2c-f93b-199500fb0072"
      },
      "outputs": [
        {
          "output_type": "execute_result",
          "data": {
            "text/plain": [
              "<Figure size 640x480 with 1 Axes>"
            ],
            "image/png": "[encoded data removed]"
          },
          "metadata": {},
          "execution_count": 43
        }
      ],
      "source": [
        "#Listing 3.7: The qubit with a probability of 0.25 to result in 0\n",
        "from qiskit_aer import Aer\n",
        "from qiskit import QuantumCircuit\n",
        "from qiskit.visualization import plot_histogram\n",
        "from math import sqrt\n",
        "\n",
        "qc = QuantumCircuit(1)\n",
        "initial_state = [1/2, sqrt(3)/2] # Here, we insert the state\n",
        "qc.initialize(initial_state, 0)\n",
        "backend = Aer.get_backend('statevector_simulator')\n",
        "result = backend.run(qc).result()\n",
        "counts = result.get_counts()\n",
        "plot_histogram(counts)"
      ]
    },
    {
      "cell_type": "markdown",
      "source": [
        "Bypassing The Normalization"
      ],
      "metadata": {
        "id": "pYMx_RXtecLH"
      }
    },
    {
      "cell_type": "code",
      "execution_count": 45,
      "metadata": {
        "colab": {
          "base_uri": "https://localhost:8080/",
          "height": 487
        },
        "id": "heTxhZazFLoy",
        "outputId": "45e47765-7f48-406d-d9c7-f525d496f21e"
      },
      "outputs": [
        {
          "output_type": "execute_result",
          "data": {
            "text/plain": [
              "<Figure size 640x480 with 1 Axes>"
            ],
            "image/png": "[encoded data removed]"
          },
          "metadata": {},
          "execution_count": 45
        }
      ],
      "source": [
        "# Listing 3.8: Using theta to specify the quantum state vector\n",
        "from math import pi, cos, sin\n",
        "from qiskit_aer import Aer\n",
        "from qiskit import QuantumCircuit\n",
        "from qiskit.visualization import plot_histogram\n",
        "\n",
        "def get_state (theta):\n",
        "    \"\"\"returns a valid state vector\"\"\"\n",
        "    return [cos(theta/2), sin(theta/2)]\n",
        "\n",
        "# play with the values for theta to get a feeling\n",
        "theta = -pi/2 # affects the probabilities\n",
        "\n",
        "\n",
        "# create, initialize, and execute the quantum circuit\n",
        "qc = QuantumCircuit(1)\n",
        "qc.initialize(get_state(theta), 0)\n",
        "backend = Aer.get_backend('statevector_simulator')\n",
        "result = backend.run(qc).result()\n",
        "counts = result.get_counts()\n",
        "\n",
        "# Show the histogram\n",
        "plot_histogram(counts)"
      ]
    },
    {
      "cell_type": "markdown",
      "source": [
        "Exploring The Observer Effect"
      ],
      "metadata": {
        "id": "9D-lkW6UfLU_"
      }
    },
    {
      "cell_type": "code",
      "execution_count": 48,
      "metadata": {
        "colab": {
          "base_uri": "https://localhost:8080/",
          "height": 487
        },
        "id": "cz9X1jXEFgFe",
        "outputId": "336c5257-58bd-4b3b-dbc7-a6459d20eeae"
      },
      "outputs": [
        {
          "output_type": "execute_result",
          "data": {
            "text/plain": [
              "<Figure size 640x480 with 1 Axes>"
            ],
            "image/png": "[encoded data removed]"
          },
          "metadata": {},
          "execution_count": 48
        }
      ],
      "source": [
        "# Listing 3.9: A circuit without measurement\n",
        "from qiskit import QuantumCircuit\n",
        "from qiskit_aer import Aer\n",
        "from qiskit.visualization import plot_histogram\n",
        "from math import sqrt\n",
        "\n",
        "# Create a quantum circuit with one qubit\n",
        "qc = QuantumCircuit(1)\n",
        "\n",
        "# Define state |Psi>\n",
        "initial_state = [1/sqrt(2), 1/sqrt(2)]\n",
        "\n",
        "# Apply initialization operation to the qubit at position 0\n",
        "qc.initialize(initial_state, 0)\n",
        "\n",
        "# Tell Qiskit how to simulate our circuit\n",
        "backend = Aer.get_backend('statevector_simulator')\n",
        "\n",
        "# Do the simulation, returning the result\n",
        "result = execute(qc,backend).result()\n",
        "\n",
        "# Get the data and display histogram\n",
        "counts = result.get_counts()\n",
        "plot_histogram(counts)"
      ]
    },
    {
      "cell_type": "code",
      "execution_count": 49,
      "metadata": {
        "id": "dfM5oO9FFgCb",
        "colab": {
          "base_uri": "https://localhost:8080/",
          "height": 63
        },
        "outputId": "82bf2183-622c-42a1-ebd1-e7ba0bc3c6e4"
      },
      "outputs": [
        {
          "output_type": "execute_result",
          "data": {
            "text/plain": [
              "   ┌─────────────────────────────┐\n",
              "q: ┤ Initialize(0.70711,0.70711) ├\n",
              "   └─────────────────────────────┘"
            ],
            "text/html": [
              "<pre style=\"word-wrap: normal;white-space: pre;background: #fff0;line-height: 1.1;font-family: &quot;Courier New&quot;,Courier,monospace\">   ┌─────────────────────────────┐\n",
              "q: ┤ Initialize(0.70711,0.70711) ├\n",
              "   └─────────────────────────────┘</pre>"
            ]
          },
          "metadata": {},
          "execution_count": 49
        }
      ],
      "source": [
        "# Listing 3.10: Draw the circuit\n",
        "qc.draw(output='text')"
      ]
    },
    {
      "cell_type": "code",
      "execution_count": 50,
      "metadata": {
        "colab": {
          "base_uri": "https://localhost:8080/",
          "height": 487
        },
        "id": "Nxk8WbAWFf9_",
        "outputId": "35ee21a9-e2f7-4bfa-eaac-91946e687898"
      },
      "outputs": [
        {
          "output_type": "execute_result",
          "data": {
            "text/plain": [
              "<Figure size 640x480 with 1 Axes>"
            ],
            "image/png": "[encoded data removed]"
          },
          "metadata": {},
          "execution_count": 50
        }
      ],
      "source": [
        "# Listing 3.11: Circuit with measurement\n",
        "qc = QuantumCircuit(1)\n",
        "qc.initialize(initial_state, 0)\n",
        "\n",
        "# observe the qubit\n",
        "qc.measure_all()\n",
        "\n",
        "# Do the simulation, returning the result\n",
        "result = backend.run(qc).result()\n",
        "counts = result.get_counts()\n",
        "plot_histogram(counts)"
      ]
    },
    {
      "cell_type": "code",
      "execution_count": 52,
      "metadata": {
        "id": "y8v9bNH5Ff7I",
        "colab": {
          "base_uri": "https://localhost:8080/",
          "height": 487
        },
        "outputId": "0599354c-09d7-4b64-ce41-5b2ea7b0fdfa"
      },
      "outputs": [
        {
          "output_type": "execute_result",
          "data": {
            "text/plain": [
              "<Figure size 640x480 with 1 Axes>"
            ],
            "image/png": "[encoded data removed]"
          },
          "metadata": {},
          "execution_count": 52
        }
      ],
      "source": [
        "# Listing 3.12: Another circuit with measurement\n",
        "qc = QuantumCircuit(1)\n",
        "qc.initialize(initial_state, 0)\n",
        "qc.measure_all()\n",
        "result = backend.run(qc).result()\n",
        "counts = result.get_counts()\n",
        "plot_histogram(counts)"
      ]
    },
    {
      "cell_type": "code",
      "execution_count": 53,
      "metadata": {
        "id": "hImeDAG8Ff4j",
        "colab": {
          "base_uri": "https://localhost:8080/",
          "height": 94
        },
        "outputId": "287737ba-b5ee-40d5-8c16-97d2d944f572"
      },
      "outputs": [
        {
          "output_type": "execute_result",
          "data": {
            "text/plain": [
              "        ┌─────────────────────────────┐ ░ ┌─┐\n",
              "     q: ┤ Initialize(0.70711,0.70711) ├─░─┤M├\n",
              "        └─────────────────────────────┘ ░ └╥┘\n",
              "meas: 1/═══════════════════════════════════╩═\n",
              "                                           0 "
            ],
            "text/html": [
              "<pre style=\"word-wrap: normal;white-space: pre;background: #fff0;line-height: 1.1;font-family: &quot;Courier New&quot;,Courier,monospace\">        ┌─────────────────────────────┐ ░ ┌─┐\n",
              "     q: ┤ Initialize(0.70711,0.70711) ├─░─┤M├\n",
              "        └─────────────────────────────┘ ░ └╥┘\n",
              "meas: 1/═══════════════════════════════════╩═\n",
              "                                           0 </pre>"
            ]
          },
          "metadata": {},
          "execution_count": 53
        }
      ],
      "source": [
        "# Listing 3.13: Draw a circuit with measurement\n",
        "qc.draw(output='text')"
      ]
    },
    {
      "cell_type": "markdown",
      "source": [
        "Parameterized Quantum Circuit"
      ],
      "metadata": {
        "id": "uFXZXDS1gaTP"
      }
    },
    {
      "cell_type": "code",
      "execution_count": 54,
      "metadata": {
        "id": "teTcov3dFf15"
      },
      "outputs": [],
      "source": [
        "# Listing 3.14: A simple PQC binary classifier\n",
        "qc = QuantumCircuit(1)\n",
        "initial_state = [1/sqrt(2), 1/sqrt(2)]\n",
        "qc.initialize(initial_state, 0)\n",
        "qc.measure_all()"
      ]
    },
    {
      "cell_type": "code",
      "execution_count": 63,
      "metadata": {
        "id": "AGZrkO8jFfzE"
      },
      "outputs": [],
      "source": [
        "# Listing 3.15: The parameterized quantum circuit classifier\n",
        "from qiskit_aer import  Aer\n",
        "from qiskit import QuantumCircuit\n",
        "from math import sqrt\n",
        "from sklearn.metrics import recall_score, precision_score, confusion_matrix\n",
        "\n",
        "def pqc_classify(backend, passenger_state):\n",
        "    \"\"\"backend -- a qiskit backend to run the quantum circuit at\n",
        "    passenger_state -- a valid quantum state vector\"\"\"\n",
        "\n",
        "    # Create a quantum circuit with one qubit\n",
        "    qc = QuantumCircuit(1)\n",
        "\n",
        "    # Define state |Psi> and initialize the circuit\n",
        "    qc.initialize(passenger_state, 0)\n",
        "\n",
        "    # Measure the qubit\n",
        "    qc.measure_all()\n",
        "\n",
        "    # run the quantum circuit\n",
        "    result=backend.run(qc).result()\n",
        "\n",
        "    # get the counts, these are either {'0': 1} or {'1': 1}\n",
        "    counts=result.get_counts(qc)\n",
        "\n",
        "    # get the bit 0 or 1\n",
        "    return int(list(map(lambda item: item[0], counts.items()))[0])"
      ]
    },
    {
      "cell_type": "code",
      "source": [
        "# Listing 3.16: Load the data\n",
        "import numpy as np\n",
        "\n",
        "with open('/content/drive/MyDrive/train.npy', 'rb') as f:\n",
        "    train_input = np.load(f)\n",
        "    train_labels = np.load(f)\n",
        "\n",
        "with open('/content/drive/MyDrive/test.npy', 'rb') as f:\n",
        "    test_input = np.load(f)\n",
        "    test_labels = np.load(f)"
      ],
      "metadata": {
        "id": "5WWNN7b2g272"
      },
      "execution_count": 57,
      "outputs": []
    },
    {
      "cell_type": "code",
      "source": [
        "# REDEFINE OR IMPORT THE FUNCTIONS OF CHAPTER 2\n",
        "def run(f_classify, x):\n",
        "    return list(map(f_classify, x))\n",
        "\n",
        "def specificity(matrix):\n",
        "    return matrix[0][0]/(matrix[0][0]+matrix[0][1]) if (matrix[0][0]+matrix[0][1] > 0) else 0\n",
        "\n",
        "def npv(matrix):\n",
        "    return matrix[0][0]/(matrix[0][0]+matrix[1][0]) if (matrix[0][0]+matrix[1][0] > 0) else 0\n",
        "\n",
        "def classifier_report(name, run, classify, input, labels):\n",
        "    cr_predictions = run(classify, input)\n",
        "    cr_cm = confusion_matrix(labels, cr_predictions)\n",
        "\n",
        "    cr_precision = precision_score(labels, cr_predictions)\n",
        "    cr_recall = recall_score(labels, cr_predictions)\n",
        "    cr_specificity = specificity(cr_cm)\n",
        "    cr_npv = npv(cr_cm)\n",
        "    cr_level = 0.25*(cr_precision + cr_recall + cr_specificity + cr_npv)\n",
        "\n",
        "    print('The precision score of the {} classifier is {:.2f}'\n",
        "        .format(name, cr_precision))\n",
        "    print('The recall score of the {} classifier is {:.2f}'\n",
        "        .format(name, cr_recall))\n",
        "    print('The specificity score of the {} classifier is {:.2f}'\n",
        "        .format(name, cr_specificity))\n",
        "    print('The npv score of the {} classifier is {:.2f}'\n",
        "        .format(name, cr_npv))\n",
        "    print('The information level is: {:.2f}'\n",
        "        .format(cr_level))\n",
        "#CAPTION A reusable function to unmask the hypocrite classifier"
      ],
      "metadata": {
        "id": "QnAj9R8-g24u"
      },
      "execution_count": 58,
      "outputs": []
    },
    {
      "cell_type": "code",
      "source": [
        "# Listing 3.17: The scores of the random quantum classifier\n",
        "# Tell Qiskit how to simulate our circuit\n",
        "backend = Aer.get_backend('statevector_simulator')\n",
        "\n",
        "# Specify the quantum state that results in either 0 or 1\n",
        "initial_state = [1/sqrt(2), 1/sqrt(2)]\n",
        "\n",
        "classifier_report(\"Random PQC\",\n",
        "    run,\n",
        "    lambda passenger: pqc_classify(backend, initial_state),\n",
        "    train_input,\n",
        "    train_labels)"
      ],
      "metadata": {
        "colab": {
          "base_uri": "https://localhost:8080/"
        },
        "id": "pyeAeTRFg21t",
        "outputId": "4600e5f6-fd32-41e8-e6eb-a49064e6c666"
      },
      "execution_count": 64,
      "outputs": [
        {
          "output_type": "stream",
          "name": "stdout",
          "text": [
            "The precision score of the Random PQC classifier is 0.36\n",
            "The recall score of the Random PQC classifier is 0.44\n",
            "The specificity score of the Random PQC classifier is 0.53\n",
            "The npv score of the Random PQC classifier is 0.61\n",
            "The information level is: 0.49\n"
          ]
        }
      ]
    },
    {
      "cell_type": "code",
      "source": [
        "# Listing 3.18: Initialization of classical (pseudo‐)random\n",
        "import random\n",
        "random.seed(a=None, version=2)"
      ],
      "metadata": {
        "id": "WnEHk125g2y-"
      },
      "execution_count": 65,
      "outputs": []
    },
    {
      "cell_type": "markdown",
      "source": [
        " Variational Hybrid Quantum-Classical Algorithm"
      ],
      "metadata": {
        "id": "pYqSw0Jsir-e"
      }
    },
    {
      "cell_type": "code",
      "source": [
        "# Listing 3.19: Return statement of pqc-classify\n",
        "def pqc_classify(backend, passenger_state):\n",
        "    # ...\n",
        "\n",
        "    # get the bit 0 or 1\n",
        "    return int(list(map(lambda item: item[0], counts.items()))[0])"
      ],
      "metadata": {
        "id": "xgpgocqug2vu"
      },
      "execution_count": 66,
      "outputs": []
    },
    {
      "cell_type": "code",
      "source": [
        "# Listing 3.20: Pre‐processing template\n",
        "def pre_process(passenger):\n",
        "    \"\"\"\n",
        "    passenger -- the normalized (array of numeric data) passenger data\n",
        "    returns a valid quantum state\n",
        "    \"\"\"\n",
        "    quantum_state = [1/sqrt(2), 1/sqrt(2)]\n",
        "    return quantum_state"
      ],
      "metadata": {
        "id": "823yYg0dg2pu"
      },
      "execution_count": 67,
      "outputs": []
    },
    {
      "cell_type": "code",
      "source": [
        "# Listing 3.21: The parameterized quantum circuit\n",
        "from qiskit_aer import Aer\n",
        "from qiskit import QuantumCircuit\n",
        "\n",
        "def pqc(backend, quantum_state):\n",
        "    \"\"\"\n",
        "    backend -- a qiskit backend to run the quantum circuit at\n",
        "    quantum_state -- a valid quantum state vector\n",
        "    returns the counts of the measurement\n",
        "    \"\"\"\n",
        "\n",
        "    # Create a quantum circuit with one qubit\n",
        "    qc = QuantumCircuit(1)\n",
        "\n",
        "    # Define state |Psi> and initialize the circuit\n",
        "    qc.initialize(quantum_state, 0)\n",
        "\n",
        "    # Measure the qubit\n",
        "    qc.measure_all()\n",
        "\n",
        "    # run the quantum circuit\n",
        "    result=backend.run(qc).result()\n",
        "\n",
        "    # get the counts, these are either {'0': 1} or {'1': 1}\n",
        "    counts=result.get_counts(qc)\n",
        "\n",
        "    return counts"
      ],
      "metadata": {
        "id": "mlKfe-pSg2m-"
      },
      "execution_count": 71,
      "outputs": []
    },
    {
      "cell_type": "code",
      "source": [
        "# Listing 3.22: Post‐processing\n",
        "def post_process(counts):\n",
        "    \"\"\"\n",
        "    counts -- the result of the quantum circuit execution\n",
        "    returns the prediction\n",
        "    \"\"\"\n",
        "    return int(list(map(lambda item: item[0], counts.items()))[0])"
      ],
      "metadata": {
        "id": "t2p51zleg2jm"
      },
      "execution_count": 69,
      "outputs": []
    },
    {
      "cell_type": "code",
      "source": [
        "# Listing 3.23: The scores of the random quantum classifier\n",
        "# Tell Qiskit how to simulate our circuit\n",
        "backend = Aer.get_backend('statevector_simulator')\n",
        "\n",
        "classifier_report(\n",
        "    \"Variational\",\n",
        "    run,\n",
        "    lambda passenger: post_process(pqc(backend, pre_process(passenger))),\n",
        "    train_input,\n",
        "    train_labels)"
      ],
      "metadata": {
        "colab": {
          "base_uri": "https://localhost:8080/"
        },
        "id": "leQUVk9Ig2g3",
        "outputId": "4d594914-784a-490a-b904-8ada7695a374"
      },
      "execution_count": 72,
      "outputs": [
        {
          "output_type": "stream",
          "name": "stdout",
          "text": [
            "The precision score of the Variational classifier is 0.38\n",
            "The recall score of the Variational classifier is 0.49\n",
            "The specificity score of the Variational classifier is 0.51\n",
            "The npv score of the Variational classifier is 0.63\n",
            "The information level is: 0.50\n"
          ]
        }
      ]
    },
    {
      "cell_type": "code",
      "source": [
        "# Listing 3.24: weigh a passenger's feature\n",
        "def weigh_feature(feature, weight):\n",
        "    \"\"\"\n",
        "    feature -- the single value of a passenger's feature\n",
        "    weight -- the overall weight of this feature\n",
        "    returns the weighted feature\n",
        "    \"\"\"\n",
        "    return feature*weight"
      ],
      "metadata": {
        "id": "4MWbD4hDg2d2"
      },
      "execution_count": 73,
      "outputs": []
    },
    {
      "cell_type": "code",
      "source": [
        "# Listing 3.25: Calculate the overall probability\n",
        "from functools import reduce\n",
        "\n",
        "def get_overall_probability(features, weights):\n",
        "    \"\"\"\n",
        "    features -- list of the features of a passenger\n",
        "    weights -- list of all features' weights\n",
        "    \"\"\"\n",
        "    return reduce(\n",
        "        lambda result, data: result + weigh_feature(*data),\n",
        "        zip(features, weights),\n",
        "        0\n",
        "    )"
      ],
      "metadata": {
        "id": "_8KPHXvGg2a3"
      },
      "execution_count": 74,
      "outputs": []
    },
    {
      "cell_type": "code",
      "source": [
        "# Listing 3.26: Calculate the correlation coefficients\n",
        "from scipy.stats import spearmanr\n",
        "\n",
        "# separate the training data into a list of the columns\n",
        "columns = [list(map(lambda passenger: passenger[i], train_input)) for i in range(0,7)]\n",
        "\n",
        "# calculate the correlation coefficient for each column\n",
        "correlations = list(map(lambda col: spearmanr(col, train_labels)[0], columns))\n",
        "correlations"
      ],
      "metadata": {
        "colab": {
          "base_uri": "https://localhost:8080/"
        },
        "id": "kcmePOTcg2YA",
        "outputId": "4d273c21-1d03-434a-b297-39119f1eff0d"
      },
      "execution_count": 75,
      "outputs": [
        {
          "output_type": "execute_result",
          "data": {
            "text/plain": [
              "[np.float64(-0.3199865971328056),\n",
              " np.float64(-0.509502431337675),\n",
              " np.float64(-0.03330984969276768),\n",
              " np.float64(0.08830880238697662),\n",
              " np.float64(0.13682508666206933),\n",
              " np.float64(0.3023305198766798),\n",
              " np.float64(-0.13624682982687314)]"
            ]
          },
          "metadata": {},
          "execution_count": 75
        }
      ]
    },
    {
      "cell_type": "code",
      "source": [
        "# Listing 3.27: The weighting pre‐processing\n",
        "from math import pi, sin, cos\n",
        "\n",
        "def get_state (theta):\n",
        "    \"\"\"returns a valid state vector from angle theta\"\"\"\n",
        "    return [cos(theta/2), sin(theta/2)]\n",
        "\n",
        "def pre_process_weighted(passenger):\n",
        "    \"\"\"\n",
        "    passenger -- the normalized (array of numeric data) passenger data\n",
        "    returns a valid quantum state\n",
        "    \"\"\"\n",
        "\n",
        "    # caluclate the overall probability\n",
        "    mu = get_overall_probability(passenger, correlations)\n",
        "\n",
        "    # theta between 0 (|0>) and pi (|1>)\n",
        "    quantum_state = get_state((1-mu)*pi)\n",
        "\n",
        "    return quantum_state"
      ],
      "metadata": {
        "id": "4YIgzvXIg2U-"
      },
      "execution_count": 76,
      "outputs": []
    },
    {
      "cell_type": "code",
      "source": [
        "# Listing 3.28: Run the PQC with the weighted pre‐processing\n",
        "backend = Aer.get_backend('statevector_simulator')\n",
        "\n",
        "classifier_report(\"Variational\",\n",
        "    run,\n",
        "    lambda passenger: post_process(pqc(backend, pre_process_weighted(passenger))),\n",
        "    train_input,\n",
        "    train_labels)\n"
      ],
      "metadata": {
        "colab": {
          "base_uri": "https://localhost:8080/"
        },
        "id": "oOz9oAAig2SG",
        "outputId": "dd2afa06-d94a-4bd7-a323-a3977757af22"
      },
      "execution_count": 77,
      "outputs": [
        {
          "output_type": "stream",
          "name": "stdout",
          "text": [
            "The precision score of the Variational classifier is 0.68\n",
            "The recall score of the Variational classifier is 0.60\n",
            "The specificity score of the Variational classifier is 0.83\n",
            "The npv score of the Variational classifier is 0.78\n",
            "The information level is: 0.72\n"
          ]
        }
      ]
    },
    {
      "cell_type": "code",
      "source": [
        "# Listing 3.29: Test the PQC‐based classifier on data it has not seen before\n",
        "classifier_report(\"Variational-Test\",\n",
        "    run,\n",
        "    lambda passenger: post_process(pqc(backend, pre_process_weighted(passenger))),\n",
        "    test_input,\n",
        "    test_labels)"
      ],
      "metadata": {
        "colab": {
          "base_uri": "https://localhost:8080/"
        },
        "id": "8If1JdTojaKu",
        "outputId": "abac4aea-558e-48c2-b295-1ccf81557165"
      },
      "execution_count": 78,
      "outputs": [
        {
          "output_type": "stream",
          "name": "stdout",
          "text": [
            "The precision score of the Variational-Test classifier is 0.70\n",
            "The recall score of the Variational-Test classifier is 0.75\n",
            "The specificity score of the Variational-Test classifier is 0.77\n",
            "The npv score of the Variational-Test classifier is 0.82\n",
            "The information level is: 0.76\n"
          ]
        }
      ]
    }
  ],
  "metadata": {
    "accelerator": "GPU",
    "colab": {
      "gpuType": "T4",
      "provenance": [],
      "mount_file_id": "1Qls4FqgZiAoxCN1TWITjqWVYgoCQHYEL",
      "authorship_tag": "ABX9TyObMqQ+poPyVUCUUatvEqRS",
      "include_colab_link": true
    },
    "kernelspec": {
      "display_name": "Python 3",
      "name": "python3"
    },
    "language_info": {
      "name": "python"
    }
  },
  "nbformat": 4,
  "nbformat_minor": 0
}