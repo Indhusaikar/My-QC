{
  "nbformat": 4,
  "nbformat_minor": 0,
  "metadata": {
    "colab": {
      "provenance": [],
      "mount_file_id": "1Jkw-YwkyFKxbvdTHwoT6rmzVuxbw6dGO",
      "authorship_tag": "ABX9TyPbPQhU2IPAg7cA4JSrojig",
      "include_colab_link": true
    },
    "kernelspec": {
      "name": "python3",
      "display_name": "Python 3"
    },
    "language_info": {
      "name": "python"
    }
  },
  "cells": [
    {
      "cell_type": "markdown",
      "metadata": {
        "id": "view-in-github",
        "colab_type": "text"
      },
      "source": [
        "<a href=\"https://colab.research.google.com/github/Indhusaikar/My-QC/blob/main/Q_hand_on_practice_chap4.ipynb\" target=\"_parent\"><img src=\"https://colab.research.google.com/assets/colab-badge.svg\" alt=\"Open In Colab\"/></a>"
      ]
    },
    {
      "cell_type": "code",
      "execution_count": 2,
      "metadata": {
        "id": "BFTmNAmokOZB"
      },
      "outputs": [],
      "source": [
        "# Listing 4.1: Load the raw data\n",
        "import pandas as pd\n",
        "train = pd.read_csv('/content/drive/MyDrive/train.csv')"
      ]
    },
    {
      "cell_type": "markdown",
      "source": [
        "Towards Naïve Bayes"
      ],
      "metadata": {
        "id": "Mo_mYsQtkvNn"
      }
    },
    {
      "cell_type": "code",
      "source": [
        "# Listing 4.2: Calculating the probability to survive the Titanic shipwreck\n",
        "# list of all survivors\n",
        "survivors =  train[train.Survived.eq(1)]\n",
        "\n",
        "# calculate the probability\n",
        "prob_survival = len(survivors)/len(train)\n",
        "print('P(Survival) is {:.2f}'.format(prob_survival))"
      ],
      "metadata": {
        "colab": {
          "base_uri": "https://localhost:8080/"
        },
        "id": "oDK65Qmxkvqe",
        "outputId": "f6f4e5af-0cda-4e96-8de7-4155003b5120"
      },
      "execution_count": 3,
      "outputs": [
        {
          "output_type": "stream",
          "name": "stdout",
          "text": [
            "P(Survival) is 0.38\n"
          ]
        }
      ]
    },
    {
      "cell_type": "code",
      "source": [
        "# Listing 4.3: Calculating the probability to survive if the passenger had asecond‐class ticket\n",
        "# list of all passengers with a second class ticket\n",
        "secondclass = train[train.Pclass.eq(2)]\n",
        "\n",
        "prob_survival_secondclass = len(secondclass[secondclass.Survived.eq(1)])/len(secondclass)\n",
        "print('P(Survived|SecondClass) is {:.2f}'.format(prob_survival_secondclass))"
      ],
      "metadata": {
        "colab": {
          "base_uri": "https://localhost:8080/"
        },
        "id": "mcDjGKSFk7Dw",
        "outputId": "b8e0fd67-b253-4e12-bc9d-d22708bc57c5"
      },
      "execution_count": 4,
      "outputs": [
        {
          "output_type": "stream",
          "name": "stdout",
          "text": [
            "P(Survived|SecondClass) is 0.47\n"
          ]
        }
      ]
    },
    {
      "cell_type": "code",
      "source": [
        "# Listing 4.4: Calculating the probability to survive if the passenger was female\n",
        "#list of all females\n",
        "females = train[train.Sex.eq(\"female\")]\n",
        "\n",
        "prob_survival_female = len(females[females.Survived.eq(1)])/len(females)\n",
        "print('P(Survived|Female) is {:.2f}'.format(prob_survival_female))"
      ],
      "metadata": {
        "colab": {
          "base_uri": "https://localhost:8080/"
        },
        "id": "0gnEPfwtk_Bf",
        "outputId": "9d72e42d-1015-4d9c-e2d4-bd38f6693f0d"
      },
      "execution_count": 5,
      "outputs": [
        {
          "output_type": "stream",
          "name": "stdout",
          "text": [
            "P(Survived|Female) is 0.74\n"
          ]
        }
      ]
    },
    {
      "cell_type": "code",
      "source": [
        "# Listing 4.5: Calculating the probability to survive if the passenger was female andhad a second‐class ticket\n",
        "#list of all females with a second class ticket\n",
        "secondclass_female = secondclass[secondclass.Sex.eq(\"female\")]\n",
        "prob_survival_secondclass_female = len(secondclass_female[secondclass_female.Survived.eq(1)])/len(secondclass_female)\n",
        "print('P(Survived|SecondClass,Female) is {:.2f}'.format(prob_survival_secondclass_female))"
      ],
      "metadata": {
        "colab": {
          "base_uri": "https://localhost:8080/"
        },
        "id": "TBld3I-glBVn",
        "outputId": "09ade49e-4b64-4c61-e45d-8994f2bf0a1d"
      },
      "execution_count": 6,
      "outputs": [
        {
          "output_type": "stream",
          "name": "stdout",
          "text": [
            "P(Survived|SecondClass,Female) is 0.92\n"
          ]
        }
      ]
    },
    {
      "cell_type": "code",
      "source": [
        "# Listing 4.6: Counting passengers\n",
        "print('There are {} female passengers the dataset'.format(len(females)))\n",
        "print('There are {} passengers with a second-class ticket in the dataset'.format(len(secondclass)))\n",
        "print('There are {} female passengers with a second-class ticket in\\nthe dataset'.format(len(secondclass_female)))"
      ],
      "metadata": {
        "colab": {
          "base_uri": "https://localhost:8080/"
        },
        "id": "QtVo3B4ClEjm",
        "outputId": "f1e87f20-07bb-452a-9920-e4113a5940f5"
      },
      "execution_count": 7,
      "outputs": [
        {
          "output_type": "stream",
          "name": "stdout",
          "text": [
            "There are 314 female passengers the dataset\n",
            "There are 184 passengers with a second-class ticket in the dataset\n",
            "There are 76 female passengers with a second-class ticket in\n",
            "the dataset\n"
          ]
        }
      ]
    },
    {
      "cell_type": "markdown",
      "source": [
        " Bayes' Theorem"
      ],
      "metadata": {
        "id": "Oej2bs2ilJx_"
      }
    },
    {
      "cell_type": "code",
      "source": [
        "# Listing 4.7: Calculating the posterior probability\n",
        "# calculate the backwards probability of a survivor having a\n",
        "# second-class ticket\n",
        "p_surv_seccl = len(survivors[survivors.Pclass.eq(2)])/len(survivors)\n",
        "\n",
        "# calculate the modifier and the informativeness of the second-class ticket\n",
        "m_seccl = p_surv_seccl / (len(secondclass)/len(train))\n",
        "i_seccl = abs(m_seccl-1)\n",
        "print('The modifier of the second-class ticket is {:.2f}.\\nThe informativeness is {:.2f}'.format(m_seccl, i_seccl))\n",
        "\n",
        "# calculate the backwards probability of a survivor being female\n",
        "p_surv_female = len(survivors[survivors.Sex.eq(\"female\")])/len(survivors)\n",
        "\n",
        "# calculate the modifier and the informativeness of being female\n",
        "m_female = p_surv_female / (len(females)/len(train))\n",
        "i_female = abs(m_female-1)\n",
        "print('The modifier of being female is {:.2f}.\\nThe informativeness is {:.2f}'.format(m_female,i_female))\n",
        "\n",
        "# calculate the posterior probability\n",
        "posterior = m_seccl * m_female * prob_survival\n",
        "print('\\nP(Survived|SecondClass,Female) is {:.2f}'.format(posterior))"
      ],
      "metadata": {
        "colab": {
          "base_uri": "https://localhost:8080/"
        },
        "id": "7sbndwhglEgf",
        "outputId": "93335afe-e5e6-467c-9f88-c6a45cd9b319"
      },
      "execution_count": 8,
      "outputs": [
        {
          "output_type": "stream",
          "name": "stdout",
          "text": [
            "The modifier of the second-class ticket is 1.23.\n",
            "The informativeness is 0.23\n",
            "The modifier of being female is 1.93.\n",
            "The informativeness is 0.93\n",
            "\n",
            "P(Survived|SecondClass,Female) is 0.91\n"
          ]
        }
      ]
    },
    {
      "cell_type": "code",
      "source": [
        "# Listing 4.8: The actual distribution of the passenger age\n",
        "train[\"Age\"].hist(bins=80)"
      ],
      "metadata": {
        "colab": {
          "base_uri": "https://localhost:8080/",
          "height": 447
        },
        "id": "QLj8T6YxlEeG",
        "outputId": "7b26a58c-06c5-4f11-9fc9-20c7e6d1ee02"
      },
      "execution_count": 9,
      "outputs": [
        {
          "output_type": "execute_result",
          "data": {
            "text/plain": [
              "<Axes: >"
            ]
          },
          "metadata": {},
          "execution_count": 9
        },
        {
          "output_type": "display_data",
          "data": {
            "text/plain": [
              "<Figure size 640x480 with 1 Axes>"
            ],
            "image/png": "[encoded data removed]"
          },
          "metadata": {}
        }
      ]
    },
    {
      "cell_type": "code",
      "source": [
        "# Listing 4.9: Calculating the mean and the standard deviation of the passenger age\n",
        "age_mean = train[\"Age\"].mean()\n",
        "age_std = train[\"Age\"].std()\n",
        "print('The average passenger age is {:.1f}. The standard deviation is {:.1f}'.format(age_mean, age_std))"
      ],
      "metadata": {
        "colab": {
          "base_uri": "https://localhost:8080/"
        },
        "id": "qneojJX8lEbZ",
        "outputId": "f53cea2d-a3da-45a0-dad6-01ef577b8e7b"
      },
      "execution_count": 10,
      "outputs": [
        {
          "output_type": "stream",
          "name": "stdout",
          "text": [
            "The average passenger age is 29.7. The standard deviation is 14.5\n"
          ]
        }
      ]
    },
    {
      "cell_type": "code",
      "source": [
        "# Listing 4.10: Calculating modifier and informativenesses of the age of 29\n",
        "from math import exp, sqrt, pi\n",
        "\n",
        "def density(mu,sigma,age):\n",
        "    return 1/(sigma*sqrt(2*pi))*exp(-0.5*((age-mu)/sigma)**2)\n",
        "\n",
        "survivor_age_mean = survivors[\"Age\"].mean()\n",
        "survivor_age_std = survivors[\"Age\"].std()\n",
        "print('The average survivor age is {:.1f}. The standard deviation is {:.1f}'.format(survivor_age_mean, survivor_age_std))\n",
        "\n",
        "# calculate the Informativeness of the age of 29\n",
        "p_surv_age29 = density(survivor_age_mean, survivor_age_std, 29)\n",
        "p_age29 = density(age_mean, age_std, 29)\n",
        "m_age29 = p_surv_age29 / p_age29\n",
        "i_age29 = abs(m_age29-1)\n",
        "print('The modifier of the age of 29 is {:.2f}.'.format(m_age29))\n",
        "print('Its informativeness is {:.2f}.'.format(i_age29))"
      ],
      "metadata": {
        "colab": {
          "base_uri": "https://localhost:8080/"
        },
        "id": "aTfZpUiAlEYW",
        "outputId": "abdad1c0-af17-48f6-bddf-9065fb19fa5d"
      },
      "execution_count": 11,
      "outputs": [
        {
          "output_type": "stream",
          "name": "stdout",
          "text": [
            "The average survivor age is 28.3. The standard deviation is 15.0\n",
            "The modifier of the age of 29 is 0.97.\n",
            "Its informativeness is 0.03.\n"
          ]
        }
      ]
    },
    {
      "cell_type": "code",
      "source": [
        "# Listing 4.11: Calculating informativenesses of other ages\n",
        "# calculate the Informativeness of the age of 70\n",
        "p_surv_age70 = density(survivor_age_mean, survivor_age_std, 70)\n",
        "p_age70 = density(age_mean, age_std, 70)\n",
        "m_age70 = p_surv_age70 / p_age70\n",
        "i_age70 = abs(m_age70-1)\n",
        "print('The modifier of the age of 70 is {:.2f}.'.format(m_age70))\n",
        "print('Its informativeness is {:.2f}.\\n'.format(i_age70))\n",
        "\n",
        "# calculate the Informativeness of the age of 5\n",
        "p_surv_age5 = density(survivor_age_mean, survivor_age_std, 5)\n",
        "p_age5 = density(age_mean, age_std, 5)\n",
        "m_age5 = p_surv_age5 / p_age5\n",
        "i_age5 = abs(m_age5-1)\n",
        "print('The modifier of the age of 5 is {:.2f}.'.format(m_age5))\n",
        "print('Its informativeness is {:.2f}.'.format(i_age5))"
      ],
      "metadata": {
        "colab": {
          "base_uri": "https://localhost:8080/"
        },
        "id": "u4DRCADglEVe",
        "outputId": "97aee096-516e-483f-f5a0-3444fc414130"
      },
      "execution_count": 12,
      "outputs": [
        {
          "output_type": "stream",
          "name": "stdout",
          "text": [
            "The modifier of the age of 70 is 0.94.\n",
            "Its informativeness is 0.06.\n",
            "\n",
            "The modifier of the age of 5 is 1.22.\n",
            "Its informativeness is 0.22.\n"
          ]
        }
      ]
    },
    {
      "cell_type": "code",
      "source": [],
      "metadata": {
        "id": "p_nzUV0blESm"
      },
      "execution_count": null,
      "outputs": []
    },
    {
      "cell_type": "code",
      "source": [],
      "metadata": {
        "id": "GVLRr5L3lEPX"
      },
      "execution_count": null,
      "outputs": []
    }
  ]
}