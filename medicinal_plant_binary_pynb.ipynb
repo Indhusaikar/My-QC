{
  "cells": [
    {
      "cell_type": "markdown",
      "metadata": {
        "id": "view-in-github",
        "colab_type": "text"
      },
      "source": [
        "<a href=\"https://colab.research.google.com/github/Indhusaikar/My-QC/blob/main/medicinal_plant_binary_pynb.ipynb\" target=\"_parent\"><img src=\"https://colab.research.google.com/assets/colab-badge.svg\" alt=\"Open In Colab\"/></a>"
      ]
    },
    {
      "cell_type": "code",
      "execution_count": null,
      "metadata": {
        "id": "NZXNhtDmrDJe"
      },
      "outputs": [],
      "source": [
        "\n",
        "\n",
        "!pip install pennylane\n",
        "from IPython.display import clear_output\n",
        "clear_output()\n"
      ]
    },
    {
      "cell_type": "code",
      "execution_count": null,
      "metadata": {
        "colab": {
          "base_uri": "https://localhost:8080/"
        },
        "id": "jyDHGw60sDJv",
        "outputId": "b9e10515-71cf-49df-8d8a-bc92e1ec37b9"
      },
      "outputs": [
        {
          "name": "stdout",
          "output_type": "stream",
          "text": [
            "cpu\n"
          ]
        }
      ],
      "source": [
        "\n",
        "import pennylane as qml\n",
        "import numpy as np\n",
        "import seaborn as sns\n",
        "import matplotlib.pyplot as plt\n",
        "import time\n",
        "\n",
        "import torch\n",
        "from torch.autograd import Variable\n",
        "import torch.optim as optim\n",
        "import torch.nn.functional as F\n",
        "import matplotlib.pyplot as plt\n",
        "# from keras.datasets import cifar10, fashion_mnist, mnist\n",
        "from skimage.transform import resize\n",
        "from sklearn.model_selection import train_test_split\n",
        "from torch.optim import Adam\n",
        "from sklearn.preprocessing import OneHotEncoder\n",
        "import math\n",
        "import threading\n",
        "\n",
        "\n",
        "device = 'cuda' if torch.cuda.is_available() else 'cpu'\n",
        "\n",
        "print(device)"
      ]
    },
    {
      "cell_type": "code",
      "execution_count": null,
      "metadata": {
        "id": "MNb2g23nsDGq"
      },
      "outputs": [],
      "source": [
        "# Standard Libraries\n",
        "import os\n",
        "import numpy as np\n",
        "import cv2\n",
        "import matplotlib.pyplot as plt\n",
        "from sklearn.model_selection import train_test_split\n",
        "\n",
        "# TensorFlow/Keras\n",
        "import tensorflow as tf\n",
        "from tensorflow.keras.preprocessing.image import ImageDataGenerator\n",
        "\n",
        "# Set dataset path\n",
        "DATASET_PATH = \"/content/drive/MyDrive/Medicinal plant dataset_binary\"\n",
        "train = os.path.join(DATASET_PATH, \"/content/drive/MyDrive/Medicinal plant dataset_binary/train\")\n",
        "test = os.path.join(DATASET_PATH, \"/content/drive/MyDrive/Medicinal plant dataset_binary/test\")\n",
        "\n"
      ]
    },
    {
      "cell_type": "code",
      "execution_count": null,
      "metadata": {
        "id": "NMX_FHdusDD1"
      },
      "outputs": [],
      "source": [
        "def load_images_from_folder(folder_path, label, img_size=(128, 128)):\n",
        "    images = []\n",
        "    labels = []\n",
        "    for filename in os.listdir(folder_path):\n",
        "        img = cv2.imread(os.path.join(folder_path, filename), cv2.IMREAD_GRAYSCALE)\n",
        "        if img is not None:\n",
        "            img = cv2.resize(img, img_size)\n",
        "            images.append(img)\n",
        "            labels.append(label)\n",
        "    return images, labels\n",
        "\n",
        "# Define paths to Hibiscus and Mango folders\n",
        "hibiscus_path = os.path.join(train, \"Hibiscus\")\n",
        "mango_path = os.path.join(test, \"Mango\")\n",
        "\n",
        "# Load COVID and Non-COVID images\n",
        "train_images, train_labels = load_images_from_folder(hibiscus_path, 1)\n",
        "test_images, test_labels = load_images_from_folder(mango_path, 0)\n",
        "\n",
        "# Combine and convert to numpy arrays\n",
        "X = np.array(train_images + test_images)\n",
        "y = np.array(train_labels + test_labels)\n",
        "\n",
        "# Expand dimensions for CNN\n",
        "X = X.reshape(-1, 128, 128, 1) / 255.0"
      ]
    },
    {
      "cell_type": "code",
      "execution_count": null,
      "metadata": {
        "id": "Brsm7xM1sDAJ"
      },
      "outputs": [],
      "source": [
        "X_train, X_test, y_train, y_test = train_test_split(X, y, test_size=0.2, random_state=42)"
      ]
    },
    {
      "cell_type": "code",
      "execution_count": null,
      "metadata": {
        "colab": {
          "base_uri": "https://localhost:8080/"
        },
        "id": "3BHCzoassC5k",
        "outputId": "c5e7cb47-c91f-42dd-f6e8-4da6df05e95a"
      },
      "outputs": [
        {
          "name": "stdout",
          "output_type": "stream",
          "text": [
            "Resized and flattened training data shape: (125, 256)\n",
            "Resized and flattened testing data shape: (32, 256)\n"
          ]
        }
      ],
      "source": [
        "\n",
        "# Resize images to 16x16 for Amplitude Embedding (256 features for 8 qubits)\n",
        "# Assuming X_train and X_test are already loaded and preprocessed as numpy arrays\n",
        "X_train_resized = X_train.reshape(-1, 128, 128) # Remove the channel dimension for resizing\n",
        "X_test_resized = X_test.reshape(-1, 128, 128)\n",
        "\n",
        "# Use cv2.resize for resizing\n",
        "X_train_resized = np.array([cv2.resize(img, (16, 16)) for img in X_train_resized])\n",
        "X_test_resized = np.array([cv2.resize(img, (16, 16)) for img in X_test_resized])\n",
        "\n",
        "# Flatten the resized images to a 1D vector of size 256\n",
        "X_train_flat = X_train_resized.reshape(-1, 16*16)\n",
        "X_test_flat = X_test_resized.reshape(-1, 16*16)\n",
        "\n",
        "print(f\"Resized and flattened training data shape: {X_train_flat.shape}\")\n",
        "print(f\"Resized and flattened testing data shape: {X_test_flat.shape}\")\n"
      ]
    },
    {
      "cell_type": "code",
      "execution_count": null,
      "metadata": {
        "id": "dghUXdGGsC2w"
      },
      "outputs": [],
      "source": []
    },
    {
      "cell_type": "code",
      "execution_count": null,
      "metadata": {
        "colab": {
          "background_save": true
        },
        "id": "OWKwy3p3sCzr",
        "outputId": "5f9df3ae-83e6-4fb5-b869-e05d65b1798f"
      },
      "outputs": [
        {
          "ename": "NameError",
          "evalue": "name 'results' is not defined",
          "output_type": "error",
          "traceback": [
            "\u001b[0;31m---------------------------------------------------------------------------\u001b[0m",
            "\u001b[0;31mNameError\u001b[0m                                 Traceback (most recent call last)",
            "\u001b[0;32m/tmp/ipython-input-9-1048572331.py\u001b[0m in \u001b[0;36m<cell line: 0>\u001b[0;34m()\u001b[0m\n\u001b[0;32m----> 1\u001b[0;31m \u001b[0;32mfor\u001b[0m \u001b[0mi\u001b[0m \u001b[0;32min\u001b[0m \u001b[0mresults\u001b[0m\u001b[0;34m:\u001b[0m\u001b[0;34m\u001b[0m\u001b[0;34m\u001b[0m\u001b[0m\n\u001b[0m\u001b[1;32m      2\u001b[0m     \u001b[0mprint\u001b[0m\u001b[0;34m(\u001b[0m\u001b[0mi\u001b[0m\u001b[0;34m**\u001b[0m\u001b[0;34m(\u001b[0m\u001b[0;36m1\u001b[0m\u001b[0;34m/\u001b[0m\u001b[0;36m2\u001b[0m\u001b[0;34m)\u001b[0m\u001b[0;34m)\u001b[0m\u001b[0;34m\u001b[0m\u001b[0;34m\u001b[0m\u001b[0m\n",
            "\u001b[0;31mNameError\u001b[0m: name 'results' is not defined"
          ]
        }
      ],
      "source": []
    },
    {
      "cell_type": "code",
      "execution_count": null,
      "metadata": {
        "id": "HPOhOEp0sCwS"
      },
      "outputs": [],
      "source": []
    },
    {
      "cell_type": "code",
      "execution_count": null,
      "metadata": {
        "id": "6sY6HeCcsCqu"
      },
      "outputs": [],
      "source": []
    },
    {
      "cell_type": "code",
      "execution_count": null,
      "metadata": {
        "id": "IfCXd7lSsCn3"
      },
      "outputs": [],
      "source": []
    },
    {
      "cell_type": "code",
      "execution_count": null,
      "metadata": {
        "id": "v1y6SXYUsCkJ"
      },
      "outputs": [],
      "source": []
    },
    {
      "cell_type": "code",
      "execution_count": null,
      "metadata": {
        "id": "aWvr8xZnsChE"
      },
      "outputs": [],
      "source": []
    },
    {
      "cell_type": "code",
      "execution_count": null,
      "metadata": {
        "id": "FAFfHnNmsCYM"
      },
      "outputs": [],
      "source": []
    }
  ],
  "metadata": {
    "colab": {
      "provenance": [],
      "mount_file_id": "1jDzs-iPYNF4QPJWwK59yrfiARbyY2c1X",
      "authorship_tag": "ABX9TyNm4JyWXlwmyD1854fajbwC",
      "include_colab_link": true
    },
    "kernelspec": {
      "display_name": "Python 3",
      "name": "python3"
    },
    "language_info": {
      "name": "python"
    }
  },
  "nbformat": 4,
  "nbformat_minor": 0
}